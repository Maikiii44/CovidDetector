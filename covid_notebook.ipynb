{
 "cells": [
  {
   "cell_type": "code",
   "execution_count": 1,
   "metadata": {},
   "outputs": [],
   "source": [
    "import os\n",
    "import torch\n",
    "from pathlib import Path\n",
    "from sklearn.utils.class_weight import compute_class_weight\n",
    "from torch.nn import CrossEntropyLoss\n",
    "\n",
    "from covid.model import CovidResNet18Model, CovidResNet50Model, CovidVgg19Model\n",
    "from covid.module import CovidModuleClassifier\n",
    "from covid.metrics import get_metrics\n",
    "from covid.data import CovidDataModule\n",
    "from covid.train import ModelTrainer"
   ]
  },
  {
   "cell_type": "code",
   "execution_count": 2,
   "metadata": {},
   "outputs": [],
   "source": [
    "PATH_DATA = \"./Covid19-dataset\"\n",
    "\n",
    "batch_size=32\n",
    "learning_rate = 0.01\n",
    "epochs=25\n",
    "num_classes=3"
   ]
  },
  {
   "cell_type": "markdown",
   "metadata": {},
   "source": [
    "## Create DataModule"
   ]
  },
  {
   "cell_type": "code",
   "execution_count": 3,
   "metadata": {},
   "outputs": [
    {
     "name": "stdout",
     "output_type": "stream",
     "text": [
      "{'Covid': 0, 'Normal': 1, 'Viral Pneumonia': 2}\n"
     ]
    }
   ],
   "source": [
    "pl_datamodule = CovidDataModule(data_path=PATH_DATA, batch_size=16)\n",
    "pl_datamodule.setup(\"fit\")\n",
    "print(pl_datamodule.class_to_idx)"
   ]
  },
  {
   "cell_type": "markdown",
   "metadata": {},
   "source": [
    "## Calculate Class Weights"
   ]
  },
  {
   "cell_type": "code",
   "execution_count": 4,
   "metadata": {},
   "outputs": [
    {
     "name": "stdout",
     "output_type": "stream",
     "text": [
      "tensor([0.7538, 1.1952, 1.1952])\n"
     ]
    }
   ],
   "source": [
    "img_classes = os.listdir(Path(PATH_DATA, \"train\"))\n",
    "class_count = {}\n",
    "for img_class in img_classes :\n",
    "    if img_class != \".DS_Store\":\n",
    "        class_idx = pl_datamodule.class_to_idx[img_class]\n",
    "        class_count[class_idx] = len(os.listdir(path=Path(PATH_DATA, \"train\", img_class)))\n",
    "\n",
    "total_samples = sum(class_count.values())\n",
    "num_classes = len(class_count)\n",
    "\n",
    "class_weights = {}\n",
    "for class_idx, value_count in class_count.items():\n",
    "    weight = total_samples/(num_classes*value_count)\n",
    "    class_weights[class_idx] = weight\n",
    "    \n",
    "class_weights_tensor = torch.tensor([class_weights[i] for i in sorted(class_weights.keys())], dtype=torch.float)\n",
    "print(class_weights_tensor)"
   ]
  },
  {
   "cell_type": "markdown",
   "metadata": {},
   "source": [
    "## Transfer Learning: Resnet18 Model"
   ]
  },
  {
   "cell_type": "code",
   "execution_count": 5,
   "metadata": {},
   "outputs": [
    {
     "name": "stderr",
     "output_type": "stream",
     "text": [
      "/Users/maicolrodrigues/Documents/Test/Covid/.venv/lib/python3.11/site-packages/torchvision/models/_utils.py:208: UserWarning: The parameter 'pretrained' is deprecated since 0.13 and may be removed in the future, please use 'weights' instead.\n",
      "  warnings.warn(\n",
      "/Users/maicolrodrigues/Documents/Test/Covid/.venv/lib/python3.11/site-packages/torchvision/models/_utils.py:223: UserWarning: Arguments other than a weight enum or `None` for 'weights' are deprecated since 0.13 and may be removed in the future. The current behavior is equivalent to passing `weights=ResNet18_Weights.IMAGENET1K_V1`. You can also use `weights=ResNet18_Weights.DEFAULT` to get the most up-to-date weights.\n",
      "  warnings.warn(msg)\n",
      "Seed set to 42\n",
      "GPU available: True (mps), used: True\n",
      "TPU available: False, using: 0 TPU cores\n",
      "HPU available: False, using: 0 HPUs\n",
      "/Users/maicolrodrigues/Documents/Test/Covid/.venv/lib/python3.11/site-packages/pytorch_lightning/callbacks/model_checkpoint.py:654: Checkpoint directory /Users/maicolrodrigues/Documents/Test/Covid/model_trained/resnet18/checkpoints exists and is not empty.\n",
      "\n",
      "  | Name          | Type               | Params | Mode \n",
      "-------------------------------------------------------------\n",
      "0 | model         | CovidResNet18Model | 11.7 M | train\n",
      "1 | criterion     | CrossEntropyLoss   | 0      | train\n",
      "2 | train_metrics | MetricCollection   | 0      | train\n",
      "3 | val_metrics   | MetricCollection   | 0      | train\n",
      "4 | test_metrics  | MetricCollection   | 0      | train\n",
      "-------------------------------------------------------------\n",
      "526 K     Trainable params\n",
      "11.2 M    Non-trainable params\n",
      "11.7 M    Total params\n",
      "46.813    Total estimated model params size (MB)\n",
      "107       Modules in train mode\n",
      "0         Modules in eval mode\n",
      "/Users/maicolrodrigues/Documents/Test/Covid/.venv/lib/python3.11/site-packages/pytorch_lightning/loops/fit_loop.py:298: The number of training batches (13) is smaller than the logging interval Trainer(log_every_n_steps=50). Set a lower value for log_every_n_steps if you want to see logs for the training epoch.\n"
     ]
    },
    {
     "name": "stdout",
     "output_type": "stream",
     "text": [
      "Epoch 0: 100%|██████████| 13/13 [00:06<00:00,  2.07it/s, v_num=d63c]"
     ]
    },
    {
     "name": "stderr",
     "output_type": "stream",
     "text": [
      "Metric val_loss improved. New best score: 0.772\n"
     ]
    },
    {
     "name": "stdout",
     "output_type": "stream",
     "text": [
      "Epoch 1: 100%|██████████| 13/13 [00:02<00:00,  6.29it/s, v_num=d63c]"
     ]
    },
    {
     "name": "stderr",
     "output_type": "stream",
     "text": [
      "Metric val_loss improved by 0.286 >= min_delta = 0.0. New best score: 0.486\n"
     ]
    },
    {
     "name": "stdout",
     "output_type": "stream",
     "text": [
      "Epoch 4: 100%|██████████| 13/13 [00:01<00:00,  6.71it/s, v_num=d63c]"
     ]
    },
    {
     "name": "stderr",
     "output_type": "stream",
     "text": [
      "Monitored metric val_loss did not improve in the last 3 records. Best score: 0.486. Signaling Trainer to stop.\n"
     ]
    },
    {
     "name": "stdout",
     "output_type": "stream",
     "text": [
      "Epoch 4: 100%|██████████| 13/13 [00:01<00:00,  6.66it/s, v_num=d63c]\n"
     ]
    }
   ],
   "source": [
    "covid_resnet18_model = CovidResNet18Model(num_classes=3, train_backbone_params=False)\n",
    "metrics = get_metrics(num_classes=num_classes)\n",
    "criterion = CrossEntropyLoss(weight=class_weights_tensor)\n",
    "run_datadir = \"./model_trained/resnet18/\"\n",
    "\n",
    "\n",
    "pl_model_resnet18 = CovidModuleClassifier(\n",
    "    model=covid_resnet18_model,\n",
    "    metrics=metrics,\n",
    "    criterion=criterion\n",
    ")\n",
    "\n",
    "trainer_resnet_18 = ModelTrainer(\n",
    "    pl_datamodule=pl_datamodule,\n",
    "    pl_model=pl_model_resnet18,\n",
    "    run_datadir=run_datadir\n",
    ")\n",
    "\n",
    "model_resnet18_trained = trainer_resnet_18.train(epochs=epochs, use_gpu=True)"
   ]
  },
  {
   "cell_type": "code",
   "execution_count": 6,
   "metadata": {},
   "outputs": [
    {
     "name": "stderr",
     "output_type": "stream",
     "text": [
      "Restoring states from the checkpoint path at /Users/maicolrodrigues/Documents/Test/Covid/model_trained/resnet18/checkpoints/epoch=1-val_loss=0.486.ckpt\n",
      "Loaded model weights from the checkpoint at /Users/maicolrodrigues/Documents/Test/Covid/model_trained/resnet18/checkpoints/epoch=1-val_loss=0.486.ckpt\n"
     ]
    },
    {
     "name": "stdout",
     "output_type": "stream",
     "text": [
      "Testing DataLoader 0: 100%|██████████| 5/5 [00:00<00:00, 11.40it/s]\n",
      "────────────────────────────────────────────────────────────────────────────────────────────────────────────────────────\n",
      "       Test metric             DataLoader 0\n",
      "────────────────────────────────────────────────────────────────────────────────────────────────────────────────────────\n",
      "   test_accuracy_macro      0.6910256743431091\n",
      "   test_accuracy_micro      0.7121211886405945\n",
      " test_accuracy_weighted     0.7121212482452393\n",
      "        test_loss           0.5291117429733276\n",
      "  test_precision_macro      0.8013467788696289\n",
      "  test_precision_micro      0.7121211886405945\n",
      " test_precision_weighted    0.8093051910400391\n",
      "    test_recall_macro       0.6910256743431091\n",
      "    test_recall_micro       0.7121211886405945\n",
      "  test_recall_weighted      0.7121212482452393\n",
      "────────────────────────────────────────────────────────────────────────────────────────────────────────────────────────\n"
     ]
    }
   ],
   "source": [
    "test_metrics_resnet18 = trainer_resnet_18.test()"
   ]
  },
  {
   "cell_type": "markdown",
   "metadata": {},
   "source": [
    "## Transfer Learning: Resnet50 Model"
   ]
  },
  {
   "cell_type": "code",
   "execution_count": 7,
   "metadata": {},
   "outputs": [
    {
     "name": "stderr",
     "output_type": "stream",
     "text": [
      "/Users/maicolrodrigues/Documents/Test/Covid/.venv/lib/python3.11/site-packages/torchvision/models/_utils.py:208: UserWarning: The parameter 'pretrained' is deprecated since 0.13 and may be removed in the future, please use 'weights' instead.\n",
      "  warnings.warn(\n",
      "/Users/maicolrodrigues/Documents/Test/Covid/.venv/lib/python3.11/site-packages/torchvision/models/_utils.py:223: UserWarning: Arguments other than a weight enum or `None` for 'weights' are deprecated since 0.13 and may be removed in the future. The current behavior is equivalent to passing `weights=ResNet50_Weights.IMAGENET1K_V1`. You can also use `weights=ResNet50_Weights.DEFAULT` to get the most up-to-date weights.\n",
      "  warnings.warn(msg)\n",
      "Seed set to 42\n",
      "GPU available: True (mps), used: True\n",
      "TPU available: False, using: 0 TPU cores\n",
      "HPU available: False, using: 0 HPUs\n",
      "/Users/maicolrodrigues/Documents/Test/Covid/.venv/lib/python3.11/site-packages/pytorch_lightning/callbacks/model_checkpoint.py:654: Checkpoint directory /Users/maicolrodrigues/Documents/Test/Covid/model_trained/resnet50/checkpoints exists and is not empty.\n",
      "\n",
      "  | Name          | Type               | Params | Mode \n",
      "-------------------------------------------------------------\n",
      "0 | model         | CovidResNet50Model | 24.8 M | train\n",
      "1 | criterion     | CrossEntropyLoss   | 0      | train\n",
      "2 | train_metrics | MetricCollection   | 0      | train\n",
      "3 | val_metrics   | MetricCollection   | 0      | train\n",
      "4 | test_metrics  | MetricCollection   | 0      | train\n",
      "-------------------------------------------------------------\n",
      "1.3 M     Trainable params\n",
      "23.5 M    Non-trainable params\n",
      "24.8 M    Total params\n",
      "99.285    Total estimated model params size (MB)\n",
      "190       Modules in train mode\n",
      "0         Modules in eval mode\n"
     ]
    },
    {
     "name": "stdout",
     "output_type": "stream",
     "text": [
      "Epoch 0: 100%|██████████| 13/13 [00:07<00:00,  1.77it/s, v_num=3594]"
     ]
    },
    {
     "name": "stderr",
     "output_type": "stream",
     "text": [
      "Metric val_loss improved. New best score: 0.971\n"
     ]
    },
    {
     "name": "stdout",
     "output_type": "stream",
     "text": [
      "Epoch 1: 100%|██████████| 13/13 [00:03<00:00,  3.48it/s, v_num=3594]"
     ]
    },
    {
     "name": "stderr",
     "output_type": "stream",
     "text": [
      "Metric val_loss improved by 0.369 >= min_delta = 0.0. New best score: 0.602\n"
     ]
    },
    {
     "name": "stdout",
     "output_type": "stream",
     "text": [
      "Epoch 2: 100%|██████████| 13/13 [00:03<00:00,  3.56it/s, v_num=3594]"
     ]
    },
    {
     "name": "stderr",
     "output_type": "stream",
     "text": [
      "Metric val_loss improved by 0.310 >= min_delta = 0.0. New best score: 0.291\n"
     ]
    },
    {
     "name": "stdout",
     "output_type": "stream",
     "text": [
      "Epoch 4: 100%|██████████| 13/13 [00:03<00:00,  3.68it/s, v_num=3594]"
     ]
    },
    {
     "name": "stderr",
     "output_type": "stream",
     "text": [
      "Metric val_loss improved by 0.034 >= min_delta = 0.0. New best score: 0.257\n"
     ]
    },
    {
     "name": "stdout",
     "output_type": "stream",
     "text": [
      "Epoch 7: 100%|██████████| 13/13 [00:03<00:00,  3.56it/s, v_num=3594]"
     ]
    },
    {
     "name": "stderr",
     "output_type": "stream",
     "text": [
      "Metric val_loss improved by 0.001 >= min_delta = 0.0. New best score: 0.256\n"
     ]
    },
    {
     "name": "stdout",
     "output_type": "stream",
     "text": [
      "Epoch 9: 100%|██████████| 13/13 [00:03<00:00,  3.56it/s, v_num=3594]"
     ]
    },
    {
     "name": "stderr",
     "output_type": "stream",
     "text": [
      "Metric val_loss improved by 0.015 >= min_delta = 0.0. New best score: 0.241\n"
     ]
    },
    {
     "name": "stdout",
     "output_type": "stream",
     "text": [
      "Epoch 11: 100%|██████████| 13/13 [00:03<00:00,  3.61it/s, v_num=3594]"
     ]
    },
    {
     "name": "stderr",
     "output_type": "stream",
     "text": [
      "Metric val_loss improved by 0.030 >= min_delta = 0.0. New best score: 0.211\n"
     ]
    },
    {
     "name": "stdout",
     "output_type": "stream",
     "text": [
      "Epoch 14: 100%|██████████| 13/13 [00:03<00:00,  3.74it/s, v_num=3594]"
     ]
    },
    {
     "name": "stderr",
     "output_type": "stream",
     "text": [
      "Monitored metric val_loss did not improve in the last 3 records. Best score: 0.211. Signaling Trainer to stop.\n"
     ]
    },
    {
     "name": "stdout",
     "output_type": "stream",
     "text": [
      "Epoch 14: 100%|██████████| 13/13 [00:03<00:00,  3.73it/s, v_num=3594]\n"
     ]
    }
   ],
   "source": [
    "covid_resnet50_model = CovidResNet50Model(num_classes=num_classes, train_backbone_params=False)\n",
    "metrics = get_metrics(num_classes=num_classes)\n",
    "criterion = CrossEntropyLoss(weight=class_weights_tensor)\n",
    "run_datadir = \"./model_trained/resnet50/\"\n",
    "\n",
    "\n",
    "pl_model_resnet50 = CovidModuleClassifier(\n",
    "    model=covid_resnet50_model,\n",
    "    metrics=metrics,\n",
    "    criterion=criterion\n",
    ")\n",
    "\n",
    "trainer_resnet_50 = ModelTrainer(\n",
    "    pl_datamodule=pl_datamodule,\n",
    "    pl_model=pl_model_resnet50,\n",
    "    run_datadir=run_datadir\n",
    ")\n",
    "\n",
    "model_resnet50_trained = trainer_resnet_50.train(epochs=epochs, use_gpu=True)"
   ]
  },
  {
   "cell_type": "code",
   "execution_count": 8,
   "metadata": {},
   "outputs": [
    {
     "name": "stderr",
     "output_type": "stream",
     "text": [
      "Restoring states from the checkpoint path at /Users/maicolrodrigues/Documents/Test/Covid/model_trained/resnet50/checkpoints/epoch=11-val_loss=0.211.ckpt\n",
      "Loaded model weights from the checkpoint at /Users/maicolrodrigues/Documents/Test/Covid/model_trained/resnet50/checkpoints/epoch=11-val_loss=0.211.ckpt\n"
     ]
    },
    {
     "name": "stdout",
     "output_type": "stream",
     "text": [
      "Testing DataLoader 0: 100%|██████████| 5/5 [00:00<00:00,  6.65it/s]\n",
      "────────────────────────────────────────────────────────────────────────────────────────────────────────────────────────\n",
      "       Test metric             DataLoader 0\n",
      "────────────────────────────────────────────────────────────────────────────────────────────────────────────────────────\n",
      "   test_accuracy_macro      0.8833333253860474\n",
      "   test_accuracy_micro      0.8939393758773804\n",
      " test_accuracy_weighted     0.8939393758773804\n",
      "        test_loss           0.23394981026649475\n",
      "  test_precision_macro       0.883876383304596\n",
      "  test_precision_micro      0.8939393758773804\n",
      " test_precision_weighted    0.8944330215454102\n",
      "    test_recall_macro       0.8833333253860474\n",
      "    test_recall_micro       0.8939393758773804\n",
      "  test_recall_weighted      0.8939393758773804\n",
      "────────────────────────────────────────────────────────────────────────────────────────────────────────────────────────\n"
     ]
    }
   ],
   "source": [
    "test_metrics_resnet50 = trainer_resnet_50.test()"
   ]
  }
 ],
 "metadata": {
  "kernelspec": {
   "display_name": ".venv",
   "language": "python",
   "name": "python3"
  },
  "language_info": {
   "codemirror_mode": {
    "name": "ipython",
    "version": 3
   },
   "file_extension": ".py",
   "mimetype": "text/x-python",
   "name": "python",
   "nbconvert_exporter": "python",
   "pygments_lexer": "ipython3",
   "version": "3.11.6"
  }
 },
 "nbformat": 4,
 "nbformat_minor": 2
}
